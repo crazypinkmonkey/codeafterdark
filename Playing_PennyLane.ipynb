{
  "nbformat": 4,
  "nbformat_minor": 0,
  "metadata": {
    "colab": {
      "provenance": [],
      "authorship_tag": "ABX9TyNM44kY719kpzENUO8coHu9",
      "include_colab_link": true
    },
    "kernelspec": {
      "name": "python3",
      "display_name": "Python 3"
    },
    "language_info": {
      "name": "python"
    }
  },
  "cells": [
    {
      "cell_type": "markdown",
      "metadata": {
        "id": "view-in-github",
        "colab_type": "text"
      },
      "source": [
        "<a href=\"https://colab.research.google.com/github/crazypinkmonkey/codeafterdark/blob/main/Playing_PennyLane.ipynb\" target=\"_parent\"><img src=\"https://colab.research.google.com/assets/colab-badge.svg\" alt=\"Open In Colab\"/></a>"
      ]
    },
    {
      "cell_type": "code",
      "source": [
        "!pip install pennylane --quiet\n"
      ],
      "metadata": {
        "colab": {
          "base_uri": "https://localhost:8080/"
        },
        "id": "_ia3GeGXswEF",
        "outputId": "3ad66f26-21c1-4bcd-c2df-bcfe8262dfd3"
      },
      "execution_count": 3,
      "outputs": [
        {
          "output_type": "stream",
          "name": "stdout",
          "text": [
            "\u001b[2K     \u001b[90m━━━━━━━━━━━━━━━━━━━━━━━━━━━━━━━━━━━━━━━━\u001b[0m \u001b[32m57.1/57.1 kB\u001b[0m \u001b[31m2.4 MB/s\u001b[0m eta \u001b[36m0:00:00\u001b[0m\n",
            "\u001b[2K   \u001b[90m━━━━━━━━━━━━━━━━━━━━━━━━━━━━━━━━━━━━━━━━\u001b[0m \u001b[32m4.8/4.8 MB\u001b[0m \u001b[31m49.9 MB/s\u001b[0m eta \u001b[36m0:00:00\u001b[0m\n",
            "\u001b[2K   \u001b[90m━━━━━━━━━━━━━━━━━━━━━━━━━━━━━━━━━━━━━━━━\u001b[0m \u001b[32m930.8/930.8 kB\u001b[0m \u001b[31m45.4 MB/s\u001b[0m eta \u001b[36m0:00:00\u001b[0m\n",
            "\u001b[2K   \u001b[90m━━━━━━━━━━━━━━━━━━━━━━━━━━━━━━━━━━━━━━━━\u001b[0m \u001b[32m2.6/2.6 MB\u001b[0m \u001b[31m70.3 MB/s\u001b[0m eta \u001b[36m0:00:00\u001b[0m\n",
            "\u001b[2K   \u001b[90m━━━━━━━━━━━━━━━━━━━━━━━━━━━━━━━━━━━━━━━━\u001b[0m \u001b[32m167.9/167.9 kB\u001b[0m \u001b[31m13.8 MB/s\u001b[0m eta \u001b[36m0:00:00\u001b[0m\n",
            "\u001b[2K   \u001b[90m━━━━━━━━━━━━━━━━━━━━━━━━━━━━━━━━━━━━━━━━\u001b[0m \u001b[32m8.6/8.6 MB\u001b[0m \u001b[31m84.7 MB/s\u001b[0m eta \u001b[36m0:00:00\u001b[0m\n",
            "\u001b[?25h"
          ]
        }
      ]
    },
    {
      "cell_type": "markdown",
      "source": [
        "#1 Qubit Quantum Classifier"
      ],
      "metadata": {
        "id": "4cNTzedO7Wl2"
      }
    },
    {
      "cell_type": "code",
      "source": [
        "import pennylane as qml\n",
        "from pennylane import numpy as np\n",
        "import matplotlib.pyplot as plt\n",
        "\n",
        "# Create a 2-qubit device\n",
        "dev = qml.device(\"default.qubit\", wires=2, shots=1000)\n",
        "\n",
        "# Define the quantum circuit\n",
        "@qml.qnode(dev)\n",
        "def bell_circuit():\n",
        "    qml.Hadamard(wires=0)\n",
        "    qml.CNOT(wires=[0, 1])\n",
        "    return qml.sample(wires=[0, 1])\n",
        "\n",
        "# Run the circuit\n",
        "samples = bell_circuit()\n",
        "\n",
        "# Count results\n",
        "from collections import Counter\n",
        "counts = Counter(tuple(s) for s in samples)\n",
        "\n",
        "# Plot\n",
        "labels = [''.join(map(str, k)) for k in counts.keys()]\n",
        "values = list(counts.values())\n",
        "\n",
        "plt.bar(labels, values)\n",
        "plt.title(\"Measurement outcomes\")\n",
        "plt.xlabel(\"Result\")\n",
        "plt.ylabel(\"Counts\")\n",
        "plt.show()\n"
      ],
      "metadata": {
        "colab": {
          "base_uri": "https://localhost:8080/",
          "height": 472
        },
        "id": "ZHftUAVsv9oQ",
        "outputId": "f975b60a-dc6a-4056-9df8-3abed2d4bff2"
      },
      "execution_count": 4,
      "outputs": [
        {
          "output_type": "display_data",
          "data": {
            "text/plain": [
              "<Figure size 640x480 with 1 Axes>"
            ],
            "image/png": "[encoded data removed]"
          },
          "metadata": {}
        }
      ]
    },
    {
      "cell_type": "code",
      "source": [
        "import pennylane as qml\n",
        "from pennylane import numpy as np\n",
        "\n",
        "dev = qml.device(\"default.qubit\", wires=1)\n",
        "\n",
        "@qml.qnode(dev)\n",
        "def circuit(weights, x):\n",
        "  qml.RX(x[0], wires=0)\n",
        "  qml.RY(x[1], wires=0)\n",
        "  qml.Rot(weights[0], weights[1], weights[2], wires=0)\n",
        "  return qml.expval(qml.PauliZ(0))\n",
        "\n",
        "def classify(X, weights):\n",
        "  result = circuit(weights, X)\n",
        "  return 0 if result > 0 else 1"
      ],
      "metadata": {
        "id": "aYadrQ3eynep"
      },
      "execution_count": 9,
      "outputs": []
    },
    {
      "cell_type": "code",
      "source": [
        "weights = np.array([0.5, 0.1, -0.3], requires_grad=True)\n",
        "\n",
        "X = [np.array([0.1, 0.2]), np.array([3.0, 2.5])]\n",
        "\n",
        "for x in X:\n",
        "  y_pred = classify(x, weights)\n",
        "  print(f\"Input: {X}, Prediction: {y_pred}\")"
      ],
      "metadata": {
        "colab": {
          "base_uri": "https://localhost:8080/"
        },
        "id": "qTze3_BqzZs9",
        "outputId": "01405fc3-a597-4e4d-838e-bfb9831cdc88"
      },
      "execution_count": 10,
      "outputs": [
        {
          "output_type": "stream",
          "name": "stdout",
          "text": [
            "Input: [tensor([0.1, 0.2], requires_grad=True), tensor([3. , 2.5], requires_grad=True)], Prediction: 0\n",
            "Input: [tensor([0.1, 0.2], requires_grad=True), tensor([3. , 2.5], requires_grad=True)], Prediction: 0\n"
          ]
        }
      ]
    },
    {
      "cell_type": "code",
      "source": [
        "X = np.array([[0.1, 0.2], [3.0, 2.5]], requires_grad=True)\n",
        "Y = np.array([0, 1])"
      ],
      "metadata": {
        "id": "8j5ETdXA0jS8"
      },
      "execution_count": 14,
      "outputs": []
    },
    {
      "cell_type": "code",
      "source": [
        "def loss(weights, X, Y):\n",
        "  loss = 0\n",
        "  for i in range(len(X)):\n",
        "    pred = circuit(weights, X[i])\n",
        "    loss += (pred - (1 - 2*Y[i]))**2\n",
        "  return loss / len(X)"
      ],
      "metadata": {
        "id": "BbINWDKq1Pi8"
      },
      "execution_count": 15,
      "outputs": []
    },
    {
      "cell_type": "code",
      "source": [
        "weights = np.array([0.5, 0.1, -0.3], requires_grad=True)\n",
        "opt = qml.GradientDescentOptimizer(stepsize=0.4)\n",
        "\n",
        "for step in range(30):\n",
        "  weights = opt.step(lambda w: loss(w, X, Y), weights)\n",
        "  current_loss = loss(weights, X, Y)\n",
        "  print(f\"Step {step+1}: Loss = {current_loss:.4f}\")"
      ],
      "metadata": {
        "colab": {
          "base_uri": "https://localhost:8080/"
        },
        "id": "MC_A7lq11qHG",
        "outputId": "e9e61c89-727e-417d-a823-cd7a7988f224"
      },
      "execution_count": 17,
      "outputs": [
        {
          "output_type": "stream",
          "name": "stdout",
          "text": [
            "Step 1: Loss = 1.4489\n",
            "Step 2: Loss = 1.0093\n",
            "Step 3: Loss = 0.5266\n",
            "Step 4: Loss = 0.3793\n",
            "Step 5: Loss = 0.3657\n",
            "Step 6: Loss = 0.3613\n",
            "Step 7: Loss = 0.3584\n",
            "Step 8: Loss = 0.3566\n",
            "Step 9: Loss = 0.3553\n",
            "Step 10: Loss = 0.3545\n",
            "Step 11: Loss = 0.3540\n",
            "Step 12: Loss = 0.3536\n",
            "Step 13: Loss = 0.3534\n",
            "Step 14: Loss = 0.3532\n",
            "Step 15: Loss = 0.3531\n",
            "Step 16: Loss = 0.3530\n",
            "Step 17: Loss = 0.3530\n",
            "Step 18: Loss = 0.3530\n",
            "Step 19: Loss = 0.3529\n",
            "Step 20: Loss = 0.3529\n",
            "Step 21: Loss = 0.3529\n",
            "Step 22: Loss = 0.3529\n",
            "Step 23: Loss = 0.3529\n",
            "Step 24: Loss = 0.3529\n",
            "Step 25: Loss = 0.3529\n",
            "Step 26: Loss = 0.3529\n",
            "Step 27: Loss = 0.3529\n",
            "Step 28: Loss = 0.3529\n",
            "Step 29: Loss = 0.3529\n",
            "Step 30: Loss = 0.3529\n"
          ]
        }
      ]
    },
    {
      "cell_type": "code",
      "source": [
        "for x in X:\n",
        "  pred = classify(x, weights)\n",
        "  print(f\"Input: {X}, Prediction: {pred}\")"
      ],
      "metadata": {
        "colab": {
          "base_uri": "https://localhost:8080/"
        },
        "id": "1J5HtEy72eDX",
        "outputId": "612e9e97-75a1-4588-f994-139dc18ebc43"
      },
      "execution_count": 19,
      "outputs": [
        {
          "output_type": "stream",
          "name": "stdout",
          "text": [
            "Input: [[0.1 0.2]\n",
            " [3.  2.5]], Prediction: 0\n",
            "Input: [[0.1 0.2]\n",
            " [3.  2.5]], Prediction: 1\n"
          ]
        }
      ]
    },
    {
      "cell_type": "markdown",
      "source": [
        "#2 Qubit Quantum Neural Network (QNN)"
      ],
      "metadata": {
        "id": "YNVQ1PDk6C25"
      }
    },
    {
      "cell_type": "code",
      "source": [
        "import pennylane as qml\n",
        "from pennylane import numpy as np\n",
        "\n",
        "dev = qml.device(\"default.qubit\", wires=2)\n",
        "\n",
        "@qml.qnode(dev)\n",
        "def qnn(weights, X):\n",
        "  qml.RX(x[0], wires=0)\n",
        "  qml.RY(x[1], wires=1)\n",
        "\n",
        "  qml.Rot(*weights[0], wires=0)\n",
        "  qml.Rot(*weights[1], wires=1)\n",
        "\n",
        "  qml.CNOT(wires=[0, 1])\n",
        "\n",
        "  qml.Rot(*weights[2], wires=0)\n",
        "  qml.Rot(*weights[3], wires=1)\n",
        "\n",
        "  return qml.expval(qml.PauliZ(0))\n"
      ],
      "metadata": {
        "id": "27p0eDLP6JdC"
      },
      "execution_count": 20,
      "outputs": []
    },
    {
      "cell_type": "code",
      "source": [
        "def loss(weights, X, Y):\n",
        "  loss = 0\n",
        "  for i in range(len(X)):\n",
        "    pred = qnn(weights, X[i])\n",
        "    loss += (pred - (1 - 2*Y[i]))**2\n",
        "  return loss / len(X)\n",
        "\n",
        "def classify(x, weights):\n",
        "  return 0 if qnn(weights, x) > 0 else 1"
      ],
      "metadata": {
        "id": "99vnNjcC7daT"
      },
      "execution_count": 21,
      "outputs": []
    },
    {
      "cell_type": "code",
      "source": [
        "X = np.array([[0.1, 0.2], [3.0, 2.5]], requires_grad=True)\n",
        "Y = np.array([0, 1])\n",
        "\n",
        "weights = np.random.randn(4, 3, requires_grad=True)\n",
        "\n",
        "opt = qml.GradientDescentOptimizer(stepsize=0.3)\n",
        "\n",
        "for step in range(30):\n",
        "  weights = opt.step(lambda w: loss(w, X, Y), weights)\n",
        "  current_loss = loss(weights, X, Y)\n",
        "  print(f\"Step {step+1}: Loss = {current_loss:.4f}\")"
      ],
      "metadata": {
        "colab": {
          "base_uri": "https://localhost:8080/"
        },
        "id": "y_9PXulq76uQ",
        "outputId": "92e88652-cb1f-4fab-aeda-dccff1e649a8"
      },
      "execution_count": 23,
      "outputs": [
        {
          "output_type": "stream",
          "name": "stdout",
          "text": [
            "Step 1: Loss = 1.0593\n",
            "Step 2: Loss = 1.0024\n",
            "Step 3: Loss = 1.0001\n",
            "Step 4: Loss = 1.0000\n",
            "Step 5: Loss = 1.0000\n",
            "Step 6: Loss = 1.0000\n",
            "Step 7: Loss = 1.0000\n",
            "Step 8: Loss = 1.0000\n",
            "Step 9: Loss = 1.0000\n",
            "Step 10: Loss = 1.0000\n",
            "Step 11: Loss = 1.0000\n",
            "Step 12: Loss = 1.0000\n",
            "Step 13: Loss = 1.0000\n",
            "Step 14: Loss = 1.0000\n",
            "Step 15: Loss = 1.0000\n",
            "Step 16: Loss = 1.0000\n",
            "Step 17: Loss = 1.0000\n",
            "Step 18: Loss = 1.0000\n",
            "Step 19: Loss = 1.0000\n",
            "Step 20: Loss = 1.0000\n",
            "Step 21: Loss = 1.0000\n",
            "Step 22: Loss = 1.0000\n",
            "Step 23: Loss = 1.0000\n",
            "Step 24: Loss = 1.0000\n",
            "Step 25: Loss = 1.0000\n",
            "Step 26: Loss = 1.0000\n",
            "Step 27: Loss = 1.0000\n",
            "Step 28: Loss = 1.0000\n",
            "Step 29: Loss = 1.0000\n",
            "Step 30: Loss = 1.0000\n"
          ]
        }
      ]
    },
    {
      "cell_type": "code",
      "source": [
        "for x in X:\n",
        "  pred = classify(x, weights)\n",
        "  print(f\"Input: {x}, Prediction: {pred}\")"
      ],
      "metadata": {
        "colab": {
          "base_uri": "https://localhost:8080/"
        },
        "id": "bYLE5iqV8Tmt",
        "outputId": "b55cb65e-bf39-49ae-b251-8ba04b69ba83"
      },
      "execution_count": 24,
      "outputs": [
        {
          "output_type": "stream",
          "name": "stdout",
          "text": [
            "Input: [0.1 0.2], Prediction: 0\n",
            "Input: [3.  2.5], Prediction: 1\n"
          ]
        }
      ]
    }
  ]
}